{
 "cells": [
  {
   "cell_type": "code",
   "execution_count": null,
   "id": "b826f64e-db7c-4a50-ad62-d1eafde0b900",
   "metadata": {},
   "outputs": [],
   "source": [
    "from pathlib import Path   #import library for csv reader csv writer\n",
    "import csv "
   ]
  }
 ],
 "metadata": {
  "kernelspec": {
   "display_name": "Python 3 (ipykernel)",
   "language": "python",
   "name": "python3"
  },
  "language_info": {
   "codemirror_mode": {
    "name": "ipython",
    "version": 3
   },
   "file_extension": ".py",
   "mimetype": "text/x-python",
   "name": "python",
   "nbconvert_exporter": "python",
   "pygments_lexer": "ipython3",
   "version": "3.11.5"
  }
 },
 "nbformat": 4,
 "nbformat_minor": 5
}
